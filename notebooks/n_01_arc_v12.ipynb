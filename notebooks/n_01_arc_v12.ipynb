{
 "cells": [
  {
   "cell_type": "code",
   "execution_count": 1,
   "id": "4d8f4bd6",
   "metadata": {},
   "outputs": [],
   "source": [
    "%load_ext autoreload\n",
    "%autoreload 2"
   ]
  },
  {
   "cell_type": "code",
   "execution_count": 29,
   "id": "8aaf37f6",
   "metadata": {},
   "outputs": [],
   "source": [
    "from copy import deepcopy\n",
    "from dataclasses import dataclass\n",
    "import deepcompare\n",
    "import json\n",
    "import os\n",
    "from pathlib import Path\n",
    "from pprint import pprint\n",
    "import re\n",
    "import requests\n",
    "import sys\n",
    "from typing import Optional\n",
    "\n",
    "if '..' not in sys.path: sys.path.append('..')\n",
    "\n",
    "from sagi.config.main import get_main_config, MainConfig"
   ]
  },
  {
   "cell_type": "code",
   "execution_count": 26,
   "id": "cbc663bd",
   "metadata": {},
   "outputs": [
    {
     "name": "stdout",
     "output_type": "stream",
     "text": [
      "{'data': {'arc_v1_data_dir_path': PosixPath('/Users/misha/data/arc-v1'),\n",
      "          'arc_v1_repo_dir_path': PosixPath('/Users/misha/prog/arc-agi'),\n",
      "          'arc_v2_data_dir_path': PosixPath('/Users/misha/data/arc-v2'),\n",
      "          'arc_v2_repo_dir_path': PosixPath('/Users/misha/prog/arc-agi-2'),\n",
      "          'root_dir_path': PosixPath('/Users/misha/data')}}\n"
     ]
    }
   ],
   "source": [
    "cfg = get_main_config()\n",
    "pprint(cfg.model_dump())"
   ]
  },
  {
   "cell_type": "code",
   "execution_count": 13,
   "id": "03b211d8",
   "metadata": {},
   "outputs": [],
   "source": [
    "def read_repo_data(repo_dir_path: Path) -> dict:\n",
    "    def read_files(dpath: Path) -> dict:\n",
    "        data = {}\n",
    "        for fpath in dpath.iterdir():\n",
    "            content = json.loads(fpath.read_text())\n",
    "            data[fpath.stem] = content\n",
    "        return data\n",
    "\n",
    "    data = {}\n",
    "    for split in ['training', 'evaluation']:\n",
    "        split_dpath = repo_dir_path / 'data' / split\n",
    "        split_data = read_files(split_dpath)\n",
    "        data[split] = split_data\n",
    "    return data\n",
    "\n",
    "repo_data_v1 = read_repo_data(cfg.data.arc_v1_repo_dir_path)\n",
    "repo_data_v2 = read_repo_data(cfg.data.arc_v2_repo_dir_path)"
   ]
  },
  {
   "cell_type": "code",
   "execution_count": 18,
   "id": "9ae2a679",
   "metadata": {},
   "outputs": [],
   "source": [
    "def read_down_data(data_dir_path: Path) -> dict:\n",
    "    data = {}\n",
    "    for fpath in data_dir_path.iterdir():\n",
    "        if not fpath.name.startswith('arc-agi_'):\n",
    "            continue\n",
    "        content = json.loads(fpath.read_text())\n",
    "        key = fpath.stem[8:]  # remove 'arc-agi_' prefix\n",
    "        data[key] = content\n",
    "    return data\n",
    "\n",
    "down_data_v1 = read_down_data(cfg.data.arc_v1_data_dir_path)\n",
    "down_data_v2 = read_down_data(cfg.data.arc_v2_data_dir_path)"
   ]
  },
  {
   "cell_type": "code",
   "execution_count": 41,
   "id": "a94baa3f",
   "metadata": {},
   "outputs": [],
   "source": [
    "def compare(repo_data: dict, down_data: dict, split: str) -> None:\n",
    "    repo = repo_data[split]\n",
    "    down_challenges = down_data[f'{split}_challenges']\n",
    "    down_solutions = down_data[f'{split}_solutions']\n",
    "    assert repo.keys() == down_challenges.keys() == down_solutions.keys()\n",
    "    for key in repo.keys():\n",
    "        repo_challenge = deepcopy(repo[key])\n",
    "        down_challenge = deepcopy(down_challenges[key])\n",
    "        down_solution = deepcopy(down_solutions[key])\n",
    "        for i, test in enumerate(down_challenge['test']):\n",
    "            test['output'] = down_solution[i]\n",
    "        if 'name' in repo_challenge:\n",
    "            del repo_challenge['name']\n",
    "        if 'name' in down_challenge:\n",
    "            del down_challenge['name']\n",
    "        if not deepcompare.compare(repo_challenge, down_challenge, strict=True):\n",
    "            pprint(repo_challenge)\n",
    "            pprint(down_challenge)\n",
    "            break"
   ]
  },
  {
   "cell_type": "code",
   "execution_count": 43,
   "id": "fda8ffa2",
   "metadata": {},
   "outputs": [],
   "source": [
    "compare(repo_data_v1, down_data_v1, 'training')\n",
    "compare(repo_data_v1, down_data_v1, 'evaluation')"
   ]
  },
  {
   "cell_type": "code",
   "execution_count": 45,
   "id": "bb726315",
   "metadata": {},
   "outputs": [],
   "source": [
    "compare(repo_data_v2, down_data_v2, 'training')\n",
    "# compare(repo_data_v2, down_data_v2, 'evaluation')"
   ]
  },
  {
   "cell_type": "code",
   "execution_count": null,
   "id": "39dd65a3",
   "metadata": {},
   "outputs": [],
   "source": []
  }
 ],
 "metadata": {
  "kernelspec": {
   "display_name": "sagi_py312",
   "language": "python",
   "name": "python3"
  },
  "language_info": {
   "codemirror_mode": {
    "name": "ipython",
    "version": 3
   },
   "file_extension": ".py",
   "mimetype": "text/x-python",
   "name": "python",
   "nbconvert_exporter": "python",
   "pygments_lexer": "ipython3",
   "version": "3.12.11"
  }
 },
 "nbformat": 4,
 "nbformat_minor": 5
}
